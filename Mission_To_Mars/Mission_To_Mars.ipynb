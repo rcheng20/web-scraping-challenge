{
 "cells": [
  {
   "cell_type": "code",
   "execution_count": null,
   "id": "1f5cc6e6",
   "metadata": {},
   "outputs": [],
   "source": [
    "# import dependencies\n",
    "from splinter import Browser\n",
    "import time\n",
    "from bs4 import BeautifulSoup\n",
    "import pandas as pd\n",
    "from webdriver_manager.chrome import ChromeDriverManager"
   ]
  },
  {
   "cell_type": "code",
   "execution_count": null,
   "id": "07503ecb",
   "metadata": {},
   "outputs": [],
   "source": [
    "# setting up splinter\n",
    "executable_path = {'executable_path': ChromeDriverManager().install()}\n",
    "browser = Browser('chrome', **executable_path, headless=False)\n",
    "\n",
    "# visiting the site for NASA's news\n",
    "url = \"https://redplanetscience.com/\"\n",
    "browser.visit(url)\n",
    "\n",
    "# basically let the page load\n",
    "time.sleep(1)\n",
    "\n",
    "# scrape the page into soup\n",
    "html = browser.html\n",
    "soup = BeautifulSoup(html, \"html.parser\")"
   ]
  },
  {
   "cell_type": "code",
   "execution_count": null,
   "id": "8baaaa8f",
   "metadata": {},
   "outputs": [],
   "source": [
    "# get latest news title and paragraph\n",
    "news_title = soup.find(\"div\", class_=\"content_title\").get_text()\n",
    "news_p = soup.find(\"div\", class_=\"article_teaser_body\").get_text()"
   ]
  },
  {
   "cell_type": "code",
   "execution_count": null,
   "id": "3b7cc5e5",
   "metadata": {},
   "outputs": [],
   "source": [
    "# Mars image url\n",
    "url = 'https://spaceimages-mars.com/'\n",
    "\n",
    "# open the url\n",
    "browser.visit(url)\n",
    "\n",
    "# basically let the page load\n",
    "time.sleep(1)\n",
    "\n",
    "# scrape the page into Soup\n",
    "html = browser.html\n",
    "soup = BeautifulSoup(html, \"html.parser\")\n",
    "\n",
    "# find the image\n",
    "featured_image = soup.find_all('img')[2][\"src\"]\n",
    "\n",
    "# display larger size image\n",
    "print(featured_image)"
   ]
  },
  {
   "cell_type": "code",
   "execution_count": null,
   "id": "53bce924",
   "metadata": {},
   "outputs": [],
   "source": [
    "# create a url for the image\n",
    "image = url + featured_image\n",
    "image"
   ]
  },
  {
   "cell_type": "code",
   "execution_count": null,
   "id": "22a046d0",
   "metadata": {},
   "outputs": [],
   "source": [
    "# NASA's mars facts url\n",
    "url = 'https://galaxyfacts-mars.com/'\n",
    "\n",
    "# parse the url\n",
    "table = pd.read_html(url)\n",
    "table"
   ]
  },
  {
   "cell_type": "code",
   "execution_count": null,
   "id": "2b07a570",
   "metadata": {},
   "outputs": [],
   "source": [
    "# convert to df and renaming columns\n",
    "facts = table[0]\n",
    "facts.columns=['Description', 'Mars', 'Earth']\n",
    "facts = facts.drop([0])\n",
    "facts"
   ]
  },
  {
   "cell_type": "code",
   "execution_count": null,
   "id": "11dd5708",
   "metadata": {},
   "outputs": [],
   "source": [
    "# convert to html\n",
    "fact_table = facts.to_html()\n",
    "fact_table.replace('\\n','')\n",
    "print(fact_table)"
   ]
  },
  {
   "cell_type": "code",
   "execution_count": null,
   "id": "9faa25c0",
   "metadata": {},
   "outputs": [],
   "source": [
    "# Mars Hemispheres url\n",
    "url = 'https://marshemispheres.com/'\n",
    "# open the url\n",
    "browser.visit(url)\n",
    "\n",
    "# basically let the page load\n",
    "time.sleep(1)\n",
    "\n",
    "# new list to hold titles and images\n",
    "hemisphere_img_urls = []"
   ]
  },
  {
   "cell_type": "code",
   "execution_count": null,
   "id": "f8b1cf19",
   "metadata": {},
   "outputs": [],
   "source": [
    "# loop through the data to find title and url info\n",
    "for item in range(4):\n",
    "    # browse through each article\n",
    "    browser.links.find_by_partial_text('Hemisphere')[item].click()\n",
    "    \n",
    "    # parse the HTML\n",
    "    html = browser.html\n",
    "    hemi_soup = bs(html,'html.parser')\n",
    "    \n",
    "    # scraping\n",
    "    title = hemi_soup.find('h2', class_='title').text\n",
    "    img_url = hemi_soup.find('li').a.get('href')\n",
    "    \n",
    "    # store findings into a dictionary and append to list\n",
    "    hemispheres = {}\n",
    "    hemispheres['img_url'] = f'https://marshemispheres.com/{img_url}'\n",
    "    hemispheres['title'] = title\n",
    "    hemisphere_img_urls.append(hemispheres)\n",
    "    \n",
    "    # browse back to repeat\n",
    "    browser.back()\n",
    "    \n",
    "hemisphere_img_urls"
   ]
  }
 ],
 "metadata": {
  "kernelspec": {
   "display_name": "Python 3 (ipykernel)",
   "language": "python",
   "name": "python3"
  },
  "language_info": {
   "codemirror_mode": {
    "name": "ipython",
    "version": 3
   },
   "file_extension": ".py",
   "mimetype": "text/x-python",
   "name": "python",
   "nbconvert_exporter": "python",
   "pygments_lexer": "ipython3",
   "version": "3.9.7"
  }
 },
 "nbformat": 4,
 "nbformat_minor": 5
}
